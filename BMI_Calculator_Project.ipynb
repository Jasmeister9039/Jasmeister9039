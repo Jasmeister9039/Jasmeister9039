{
 "cells": [
  {
   "cell_type": "markdown",
   "id": "48959674-6595-440b-a492-80ab40fbccf7",
   "metadata": {},
   "source": [
    "# BMI Calculator"
   ]
  },
  {
   "cell_type": "code",
   "execution_count": null,
   "id": "6638cbd1-d52f-4595-9042-6c53f72271d7",
   "metadata": {},
   "outputs": [],
   "source": [
    "name = input(\"Enter your name: \")\n",
    "\n",
    "weight = int(input(\"Enter your weight in pounds: \"))\n",
    "\n",
    "height = int(input(\"Enter your height in inches: \"))\n",
    "\n",
    "BMI = (weight * 703) / (height * height)\n",
    "\n",
    "print(BMI)\n",
    "\n",
    "if BMI > 0:\n",
    "    if BMI < 18.5:\n",
    "        print(\"Underweight\")\n",
    "    elif BMI <= 24.9:\n",
    "        print(\"Normal Weight\")\n",
    "    elif BMI <= 29.9:\n",
    "        print(\"Overweight\")\n",
    "    elif BMI <= 34.9:\n",
    "        print(\"Obese\")\n",
    "    elif BMI <= 39.9:\n",
    "        print(\"Severely Obese\")\n",
    "    else:\n",
    "        print(\"Morbidly Obese\")\n",
    "else:\n",
    "    print(\"Enter Valid Input\")"
   ]
  }
 ],
 "metadata": {
  "kernelspec": {
   "display_name": "Python 3 (ipykernel)",
   "language": "python",
   "name": "python3"
  },
  "language_info": {
   "codemirror_mode": {
    "name": "ipython",
    "version": 3
   },
   "file_extension": ".py",
   "mimetype": "text/x-python",
   "name": "python",
   "nbconvert_exporter": "python",
   "pygments_lexer": "ipython3",
   "version": "3.12.4"
  }
 },
 "nbformat": 4,
 "nbformat_minor": 5
}
