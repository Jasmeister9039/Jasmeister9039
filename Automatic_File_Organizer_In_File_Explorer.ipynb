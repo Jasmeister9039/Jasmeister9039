{
 "cells": [
  {
   "cell_type": "markdown",
   "id": "aff1a8eb-25d8-4930-be7d-099ae72cff76",
   "metadata": {},
   "source": [
    "# Automatic File Organizer in File Explorer"
   ]
  },
  {
   "cell_type": "code",
   "execution_count": 3,
   "id": "4a9e5c22-704b-4464-886d-00f00b443dc8",
   "metadata": {},
   "outputs": [],
   "source": [
    "import os, shutil"
   ]
  },
  {
   "cell_type": "code",
   "execution_count": 5,
   "id": "73445ae7-be53-4948-ac63-4aef15dac200",
   "metadata": {},
   "outputs": [],
   "source": [
    "path = r\"C:/Users/jason/OneDrive/Data Analytics Bootcamp/Projects/\""
   ]
  },
  {
   "cell_type": "code",
   "execution_count": 7,
   "id": "12ed4815-0fc2-4a18-9ff1-58e2462ed451",
   "metadata": {},
   "outputs": [],
   "source": [
    "file_name = os.listdir(path)"
   ]
  },
  {
   "cell_type": "code",
   "execution_count": 9,
   "id": "445827d9-6824-4530-bfbc-1eeaea684e5d",
   "metadata": {},
   "outputs": [],
   "source": [
    "folder_names = ['sql projects', 'excel projects', 'power bi projects', 'tableau projects']\n",
    "\n",
    "for loop in range(0,4):\n",
    "    if not os.path.exists(path + folder_names[loop]):\n",
    "        os.makedirs(path + folder_names[loop])\n",
    "\n",
    "for file in file_name:\n",
    "    if \".sql\" in file and not os.path.exists(path + \"sql projects/\" + file):\n",
    "        shutil.move(path + file, path + \"sql projects/\" + file)\n",
    "    if \".xlsx\" in file and not os.path.exists(path + \"excel projects/\" + file):\n",
    "        shutil.move(path + file, path + \"excel projects/\" + file)\n",
    "    if \".pbix\" in file and not os.path.exists(path + \"power bi projects/\" + file):\n",
    "        shutil.move(path + file, path + \"power bi projects/\" + file)\n",
    "    if \".twb\" in file and not os.path.exists(path + \"tableau projects/\" + file):\n",
    "        shutil.move(path + file, path + \"tableau projects/\" + file)"
   ]
  }
 ],
 "metadata": {
  "kernelspec": {
   "display_name": "Python 3 (ipykernel)",
   "language": "python",
   "name": "python3"
  },
  "language_info": {
   "codemirror_mode": {
    "name": "ipython",
    "version": 3
   },
   "file_extension": ".py",
   "mimetype": "text/x-python",
   "name": "python",
   "nbconvert_exporter": "python",
   "pygments_lexer": "ipython3",
   "version": "3.12.4"
  }
 },
 "nbformat": 4,
 "nbformat_minor": 5
}
